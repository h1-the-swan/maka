{
 "cells": [
  {
   "cell_type": "code",
   "execution_count": 1,
   "metadata": {},
   "outputs": [],
   "source": [
    "import os, json, time\n",
    "from datetime import datetime"
   ]
  },
  {
   "cell_type": "code",
   "execution_count": 2,
   "metadata": {},
   "outputs": [
    {
     "data": {
      "text/plain": [
       "True"
      ]
     },
     "execution_count": 2,
     "metadata": {},
     "output_type": "execute_result"
    }
   ],
   "source": [
    "from dotenv import load_dotenv\n",
    "dotenv_path = '../.env'\n",
    "load_dotenv(dotenv_path)"
   ]
  },
  {
   "cell_type": "code",
   "execution_count": 3,
   "metadata": {},
   "outputs": [],
   "source": [
    "from db_connect_mag_201710 import get_db_connection"
   ]
  },
  {
   "cell_type": "code",
   "execution_count": 4,
   "metadata": {},
   "outputs": [
    {
     "name": "stderr",
     "output_type": "stream",
     "text": [
      "/home/jporteno/code/maka/venv/lib/python3.5/site-packages/pymysql/cursors.py:166: Warning: (1287, \"'@@tx_isolation' is deprecated and will be removed in a future release. Please use '@@transaction_isolation' instead\")\n",
      "  result = self._query(query)\n"
     ]
    }
   ],
   "source": [
    "db = get_db_connection()"
   ]
  },
  {
   "cell_type": "code",
   "execution_count": 5,
   "metadata": {},
   "outputs": [],
   "source": [
    "tbl = db.tables['Papers']"
   ]
  },
  {
   "cell_type": "code",
   "execution_count": 6,
   "metadata": {},
   "outputs": [],
   "source": [
    "# http://docs.sqlalchemy.org/en/latest/orm/extensions/automap.html\n",
    "from sqlalchemy.ext.automap import automap_base\n",
    "Base = automap_base()\n",
    "Base.prepare(db.engine, reflect=True)"
   ]
  },
  {
   "cell_type": "code",
   "execution_count": 7,
   "metadata": {},
   "outputs": [],
   "source": [
    "Paper = Base.classes.Papers\n",
    "PaperAuthorAffiliation = Base.classes.PaperAuthorAffiliations\n",
    "PaperReference = Base.classes.PaperReferences"
   ]
  },
  {
   "cell_type": "code",
   "execution_count": 8,
   "metadata": {},
   "outputs": [],
   "source": [
    "pr = PaperReference()"
   ]
  },
  {
   "cell_type": "code",
   "execution_count": 9,
   "metadata": {},
   "outputs": [],
   "source": [
    "from sqlalchemy.orm import Session"
   ]
  },
  {
   "cell_type": "code",
   "execution_count": 10,
   "metadata": {},
   "outputs": [],
   "source": [
    "session = Session(db.engine)"
   ]
  },
  {
   "cell_type": "code",
   "execution_count": 29,
   "metadata": {},
   "outputs": [],
   "source": [
    "fname = '../paperscrape4/papers-1960.json'\n",
    "with open(fname, 'r') as f:\n",
    "    j = json.load(f)"
   ]
  },
  {
   "cell_type": "code",
   "execution_count": 30,
   "metadata": {},
   "outputs": [
    {
     "data": {
      "text/plain": [
       "{'AA': [{'AfId': None, 'AuId': 2308212464, 'AuN': 'r g d steel'},\n",
       "  {'AfId': None, 'AuId': 2314176326, 'AuN': 'james h torrie'}],\n",
       " 'C': None,\n",
       " 'D': '1960-01-01',\n",
       " 'E': {'DOI': None},\n",
       " 'F': [{'FId': 48057537},\n",
       "  {'FId': 145420912},\n",
       "  {'FId': 149782125},\n",
       "  {'FId': 105795698},\n",
       "  {'FId': 127413603}],\n",
       " 'Id': 1992897439,\n",
       " 'J': None,\n",
       " 'L': 'en',\n",
       " 'RId': None,\n",
       " 'Ti': 'principles and procedures of statistics',\n",
       " 'Y': 1960}"
      ]
     },
     "execution_count": 30,
     "metadata": {},
     "output_type": "execute_result"
    }
   ],
   "source": [
    "j[0]"
   ]
  },
  {
   "cell_type": "code",
   "execution_count": 31,
   "metadata": {},
   "outputs": [
    {
     "data": {
      "text/plain": [
       "Counter({0: 853})"
      ]
     },
     "execution_count": 31,
     "metadata": {},
     "output_type": "execute_result"
    }
   ],
   "source": [
    "from collections import Counter\n",
    "c = Counter()\n",
    "for record in j:\n",
    "    journal = record.get('C')\n",
    "    if not journal:\n",
    "        journal = []\n",
    "    if len(journal) == 2:\n",
    "        break\n",
    "    c[len(journal)] += 1\n",
    "c"
   ]
  },
  {
   "cell_type": "code",
   "execution_count": 32,
   "metadata": {},
   "outputs": [
    {
     "data": {
      "text/plain": [
       "{'CId': 2755067489, 'CN': 'ire'}"
      ]
     },
     "execution_count": 32,
     "metadata": {},
     "output_type": "execute_result"
    }
   ],
   "source": [
    "journal"
   ]
  },
  {
   "cell_type": "code",
   "execution_count": 33,
   "metadata": {},
   "outputs": [],
   "source": [
    "def process_paper(record):\n",
    "    p = Paper()\n",
    "    p.Paper_ID = record.get('Id')\n",
    "    p.title = record.get('Ti')\n",
    "    p.date = record.get('D')\n",
    "    p.year = record.get('Y')\n",
    "    journal = record.get('J')\n",
    "    if journal:\n",
    "        p.Journal_ID = journal.get('JId')\n",
    "    conference = record.get('C')\n",
    "    if conference:\n",
    "        p.Conference_series_ID = conference.get('CId')\n",
    "    extended = record.get('E')\n",
    "    if extended:\n",
    "        p.DOI = extended.get('DOI')\n",
    "        \n",
    "    prs = []\n",
    "    references = record.get('RId')\n",
    "    if references:\n",
    "        for rid in references:\n",
    "            pr = PaperReference()\n",
    "            pr.Paper_ID = p.Paper_ID\n",
    "            pr.Paper_reference_ID = rid\n",
    "            prs.append(pr)\n",
    "    \n",
    "    paas = []\n",
    "    authors = record.get('AA')\n",
    "    if authors:\n",
    "        for a in authors:\n",
    "            paa = PaperAuthorAffiliation()\n",
    "            paa.Author_ID = a.get('AuId')\n",
    "            paa.Paper_ID = p.Paper_ID\n",
    "            paa.Author_name = a.get('AuN')\n",
    "            paa.Affiliation_ID = a.get('AfId')\n",
    "            paas.append(paa)\n",
    "    \n",
    "    return p, prs, paas"
   ]
  },
  {
   "cell_type": "code",
   "execution_count": 34,
   "metadata": {},
   "outputs": [],
   "source": [
    "for record in j:\n",
    "    p, prs, paas = process_paper(record)\n",
    "    if prs:\n",
    "        break"
   ]
  },
  {
   "cell_type": "code",
   "execution_count": 35,
   "metadata": {},
   "outputs": [
    {
     "data": {
      "text/plain": [
       "2275121949"
      ]
     },
     "execution_count": 35,
     "metadata": {},
     "output_type": "execute_result"
    }
   ],
   "source": [
    "paas[0].Author_ID"
   ]
  },
  {
   "cell_type": "code",
   "execution_count": 36,
   "metadata": {},
   "outputs": [
    {
     "data": {
      "text/plain": [
       "'r e kalman'"
      ]
     },
     "execution_count": 36,
     "metadata": {},
     "output_type": "execute_result"
    }
   ],
   "source": [
    "paas[0].Author_name"
   ]
  },
  {
   "cell_type": "code",
   "execution_count": 37,
   "metadata": {},
   "outputs": [
    {
     "data": {
      "text/plain": [
       "{'AA': [{'AfId': 40036882, 'AuId': 2275121949, 'AuN': 'r e kalman'}],\n",
       " 'C': None,\n",
       " 'D': '1960-01-01',\n",
       " 'E': {'DOI': '10.1115/1.3662552'},\n",
       " 'F': [{'FId': 65244806}, {'FId': 126255220}, {'FId': 105795698}],\n",
       " 'Id': 2105934661,\n",
       " 'J': None,\n",
       " 'L': 'en',\n",
       " 'RId': [2013548638,\n",
       "  2062328787,\n",
       "  2075549445,\n",
       "  610132389,\n",
       "  642684674,\n",
       "  2571506285,\n",
       "  1999276251,\n",
       "  2112172398,\n",
       "  71817473,\n",
       "  2031003381,\n",
       "  2023026992,\n",
       "  2076492098,\n",
       "  2115971087,\n",
       "  2044144205,\n",
       "  2107219746,\n",
       "  2030291784,\n",
       "  1994643457],\n",
       " 'Ti': 'a new approach to linear filtering and prediction problems',\n",
       " 'Y': 1960}"
      ]
     },
     "execution_count": 37,
     "metadata": {},
     "output_type": "execute_result"
    }
   ],
   "source": [
    "record"
   ]
  },
  {
   "cell_type": "code",
   "execution_count": 38,
   "metadata": {},
   "outputs": [
    {
     "name": "stdout",
     "output_type": "stream",
     "text": [
      "2013548638\n",
      "2062328787\n",
      "2075549445\n",
      "610132389\n",
      "642684674\n",
      "2571506285\n",
      "1999276251\n",
      "2112172398\n",
      "71817473\n",
      "2031003381\n",
      "2023026992\n",
      "2076492098\n",
      "2115971087\n",
      "2044144205\n",
      "2107219746\n",
      "2030291784\n",
      "1994643457\n"
     ]
    }
   ],
   "source": [
    "for pr in prs:\n",
    "    print(pr.Paper_reference_ID)"
   ]
  },
  {
   "cell_type": "code",
   "execution_count": 39,
   "metadata": {},
   "outputs": [],
   "source": [
    "# try loading this one\n",
    "session.add(p)\n",
    "for pr in prs:\n",
    "    session.add(pr)\n",
    "for paa in paas:\n",
    "    session.add(paa)\n",
    "session.commit()"
   ]
  },
  {
   "cell_type": "code",
   "execution_count": null,
   "metadata": {},
   "outputs": [],
   "source": []
  },
  {
   "cell_type": "code",
   "execution_count": null,
   "metadata": {},
   "outputs": [],
   "source": []
  },
  {
   "cell_type": "code",
   "execution_count": 11,
   "metadata": {},
   "outputs": [],
   "source": [
    "fname = '../paperscrape4/papers-1960.json'"
   ]
  },
  {
   "cell_type": "code",
   "execution_count": 12,
   "metadata": {},
   "outputs": [],
   "source": [
    "json_load = Base.classes['paperjson_loaded']()"
   ]
  },
  {
   "cell_type": "code",
   "execution_count": 13,
   "metadata": {},
   "outputs": [],
   "source": [
    "json_load.json_fname = os.path.basename(fname)"
   ]
  },
  {
   "cell_type": "code",
   "execution_count": 14,
   "metadata": {},
   "outputs": [],
   "source": [
    "json_load.load_start = datetime.now()\n",
    "time.sleep(2)\n",
    "json_load.load_end = datetime.now()"
   ]
  },
  {
   "cell_type": "code",
   "execution_count": 15,
   "metadata": {},
   "outputs": [],
   "source": [
    "json_load.num_records = 55555\n",
    "json_load.num_added = 55555"
   ]
  },
  {
   "cell_type": "code",
   "execution_count": 16,
   "metadata": {},
   "outputs": [],
   "source": [
    "session.add(json_load)\n",
    "session.commit()"
   ]
  },
  {
   "cell_type": "code",
   "execution_count": 17,
   "metadata": {},
   "outputs": [
    {
     "data": {
      "text/plain": [
       "True"
      ]
     },
     "execution_count": 17,
     "metadata": {},
     "output_type": "execute_result"
    }
   ],
   "source": [
    "Base.classes.has_key('paperjson_loaded')"
   ]
  },
  {
   "cell_type": "code",
   "execution_count": 21,
   "metadata": {},
   "outputs": [],
   "source": [
    "DBLog = Base.classes['paperjson_loaded']"
   ]
  },
  {
   "cell_type": "code",
   "execution_count": 22,
   "metadata": {},
   "outputs": [],
   "source": [
    "q = session.query(DBLog).filter(DBLog.json_fname=='papers-1960.json')\n",
    "# q = q.exists()\n",
    "q = q.scalar()"
   ]
  },
  {
   "cell_type": "code",
   "execution_count": 23,
   "metadata": {},
   "outputs": [
    {
     "data": {
      "text/plain": [
       "False"
      ]
     },
     "execution_count": 23,
     "metadata": {},
     "output_type": "execute_result"
    }
   ],
   "source": [
    "q is not None"
   ]
  },
  {
   "cell_type": "code",
   "execution_count": 24,
   "metadata": {},
   "outputs": [],
   "source": [
    "session.close()"
   ]
  }
 ],
 "metadata": {
  "kernelspec": {
   "display_name": "maka-venv",
   "language": "python",
   "name": "maka-venv"
  },
  "language_info": {
   "codemirror_mode": {
    "name": "ipython",
    "version": 3
   },
   "file_extension": ".py",
   "mimetype": "text/x-python",
   "name": "python",
   "nbconvert_exporter": "python",
   "pygments_lexer": "ipython3",
   "version": "3.5.2"
  }
 },
 "nbformat": 4,
 "nbformat_minor": 2
}
