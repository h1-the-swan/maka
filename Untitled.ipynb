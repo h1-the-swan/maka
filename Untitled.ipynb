{
 "cells": [
  {
   "cell_type": "code",
   "execution_count": 1,
   "metadata": {},
   "outputs": [],
   "source": [
    "import classes\n",
    "import inquirer\n"
   ]
  },
  {
   "cell_type": "code",
   "execution_count": 2,
   "metadata": {},
   "outputs": [],
   "source": [
    "from dotenv import load_dotenv\n",
    "from time import sleep\n",
    "from timeit import default_timer as timer"
   ]
  },
  {
   "cell_type": "code",
   "execution_count": 3,
   "metadata": {},
   "outputs": [
    {
     "data": {
      "text/plain": [
       "True"
      ]
     },
     "execution_count": 3,
     "metadata": {},
     "output_type": "execute_result"
    }
   ],
   "source": [
    "dotenv_path = 'samples/.env'\n",
    "load_dotenv(dotenv_path)"
   ]
  },
  {
   "cell_type": "code",
   "execution_count": 4,
   "metadata": {
    "collapsed": true
   },
   "outputs": [],
   "source": [
    "query = {\n",
    "    'query_type': inquirer.AcademicQueryType.INTERPRET,\n",
    "    'payload': {\n",
    "        'query': 'papers from 1999'\n",
    "    }\n",
    "}"
   ]
  },
  {
   "cell_type": "code",
   "execution_count": 5,
   "metadata": {},
   "outputs": [],
   "source": [
    "q = inquirer.AcademicQuerier(query['query_type'], query['payload'])"
   ]
  },
  {
   "cell_type": "code",
   "execution_count": 6,
   "metadata": {
    "collapsed": true
   },
   "outputs": [],
   "source": [
    "results = q.post()"
   ]
  },
  {
   "cell_type": "code",
   "execution_count": 7,
   "metadata": {},
   "outputs": [],
   "source": [
    "interp = results[0]\n",
    "expr = interp['rules'][0]['value']"
   ]
  },
  {
   "cell_type": "code",
   "execution_count": 8,
   "metadata": {
    "scrolled": true
   },
   "outputs": [
    {
     "data": {
      "text/plain": [
       "'Y=1999'"
      ]
     },
     "execution_count": 8,
     "metadata": {},
     "output_type": "execute_result"
    }
   ],
   "source": [
    "expr"
   ]
  },
  {
   "cell_type": "code",
   "execution_count": 9,
   "metadata": {},
   "outputs": [],
   "source": [
    "args = {\n",
    "    'query_type': inquirer.AcademicQueryType.EVALUATE,\n",
    "    'payload': {\n",
    "        'expr': expr,\n",
    "        'attributes': 'Id'\n",
    "    },\n",
    "    'parent': None\n",
    "}\n",
    "q = inquirer.AcademicQuerier(args['query_type'], args['payload'])\n",
    "results = q.post()"
   ]
  },
  {
   "cell_type": "code",
   "execution_count": 10,
   "metadata": {},
   "outputs": [
    {
     "data": {
      "text/plain": [
       "{'authors': None,\n",
       " 'cites': [],\n",
       " 'conference': None,\n",
       " 'date': None,\n",
       " 'excerpt': None,\n",
       " 'field_of_study': None,\n",
       " 'id': 2613530596,\n",
       " 'journal': None,\n",
       " 'metadata': None,\n",
       " 'num_citations': 0,\n",
       " 'references': None,\n",
       " 'title': None,\n",
       " 'year': 0}"
      ]
     },
     "execution_count": 10,
     "metadata": {},
     "output_type": "execute_result"
    }
   ],
   "source": [
    "p = results[0]\n",
    "p.as_dict()"
   ]
  },
  {
   "cell_type": "code",
   "execution_count": 11,
   "metadata": {},
   "outputs": [
    {
     "data": {
      "text/plain": [
       "50"
      ]
     },
     "execution_count": 11,
     "metadata": {},
     "output_type": "execute_result"
    }
   ],
   "source": [
    "len(results)"
   ]
  },
  {
   "cell_type": "code",
   "execution_count": 12,
   "metadata": {
    "collapsed": true
   },
   "outputs": [],
   "source": [
    "num_results = 0\n",
    "num_results += len(results)"
   ]
  },
  {
   "cell_type": "code",
   "execution_count": 13,
   "metadata": {
    "collapsed": true
   },
   "outputs": [],
   "source": [
    "def reinquire(args, offset):\n",
    "    new_payload = args['payload'].copy()\n",
    "    new_payload['offset'] = offset\n",
    "    new_payload['count'] = 1000\n",
    "    new_args = {\n",
    "        'query_type': args['query_type'],\n",
    "        'payload': new_payload,\n",
    "        'parent': args['parent']\n",
    "    }\n",
    "    q = inquirer.AcademicQuerier(new_args['query_type'], new_args['payload'])\n",
    "    results = q.post()\n",
    "    return new_args, results"
   ]
  },
  {
   "cell_type": "code",
   "execution_count": 14,
   "metadata": {},
   "outputs": [
    {
     "name": "stdout",
     "output_type": "stream",
     "text": [
      "0 (0.283252547000302 seconds)\n",
      "20 (6.764130482000837 seconds)\n",
      "50 (15.57158745400011 seconds)\n",
      "100 (31.83048949300064 seconds)\n",
      "500 (247.0375421410008 seconds)\n",
      "1000 (726.062431331 seconds)\n",
      "1500 (1473.6373029450006 seconds)\n",
      "2000 (2436.8855286920007 seconds)\n",
      "CPU times: user 1min 22s, sys: 4.67 s, total: 1min 26s\n",
      "Wall time: 44min 25s\n"
     ]
    }
   ],
   "source": [
    "%%time\n",
    "i=0\n",
    "start = timer()\n",
    "while True:\n",
    "    args, results = reinquire(args, num_results)\n",
    "    num_results += len(results)\n",
    "    if not results:\n",
    "        break\n",
    "    sleep(.0001)\n",
    "    if i in [20,50,100] or i % 500 == 0:\n",
    "        print(\"{} ({} seconds)\".format(i, timer()-start))\n",
    "    i += 1"
   ]
  },
  {
   "cell_type": "markdown",
   "metadata": {},
   "source": [
    "44min 25s to get 2104050 papers from 1999 (with 2104 queries)"
   ]
  },
  {
   "cell_type": "code",
   "execution_count": 15,
   "metadata": {
    "scrolled": true
   },
   "outputs": [
    {
     "data": {
      "text/plain": [
       "2104050"
      ]
     },
     "execution_count": 15,
     "metadata": {},
     "output_type": "execute_result"
    }
   ],
   "source": [
    "num_results"
   ]
  },
  {
   "cell_type": "code",
   "execution_count": 16,
   "metadata": {},
   "outputs": [
    {
     "data": {
      "text/plain": [
       "2104"
      ]
     },
     "execution_count": 16,
     "metadata": {},
     "output_type": "execute_result"
    }
   ],
   "source": [
    "i"
   ]
  },
  {
   "cell_type": "code",
   "execution_count": 17,
   "metadata": {},
   "outputs": [
    {
     "data": {
      "text/plain": [
       "0"
      ]
     },
     "execution_count": 17,
     "metadata": {},
     "output_type": "execute_result"
    }
   ],
   "source": [
    "len(results)"
   ]
  },
  {
   "cell_type": "code",
   "execution_count": 18,
   "metadata": {},
   "outputs": [
    {
     "data": {
      "text/plain": [
       "[]"
      ]
     },
     "execution_count": 18,
     "metadata": {},
     "output_type": "execute_result"
    }
   ],
   "source": [
    "results"
   ]
  }
 ],
 "metadata": {
  "kernelspec": {
   "display_name": "Python 3",
   "language": "python",
   "name": "python3"
  },
  "language_info": {
   "codemirror_mode": {
    "name": "ipython",
    "version": 3
   },
   "file_extension": ".py",
   "mimetype": "text/x-python",
   "name": "python",
   "nbconvert_exporter": "python",
   "pygments_lexer": "ipython3",
   "version": "3.5.2"
  }
 },
 "nbformat": 4,
 "nbformat_minor": 2
}
