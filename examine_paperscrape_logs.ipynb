{
 "cells": [
  {
   "cell_type": "code",
   "execution_count": 93,
   "metadata": {
    "collapsed": true
   },
   "outputs": [],
   "source": [
    "import os, json, re\n",
    "from glob import glob"
   ]
  },
  {
   "cell_type": "code",
   "execution_count": 126,
   "metadata": {
    "collapsed": true
   },
   "outputs": [],
   "source": [
    "import pandas as pd\n",
    "import numpy as np\n",
    "import matplotlib.pyplot as plt"
   ]
  },
  {
   "cell_type": "code",
   "execution_count": 127,
   "metadata": {
    "collapsed": true
   },
   "outputs": [],
   "source": [
    "%matplotlib inline"
   ]
  },
  {
   "cell_type": "code",
   "execution_count": 103,
   "metadata": {
    "collapsed": true
   },
   "outputs": [],
   "source": [
    "logfiles = glob('paperscrape3/*.log')"
   ]
  },
  {
   "cell_type": "code",
   "execution_count": 104,
   "metadata": {},
   "outputs": [],
   "source": [
    "logfiles.sort()"
   ]
  },
  {
   "cell_type": "code",
   "execution_count": 105,
   "metadata": {
    "collapsed": true
   },
   "outputs": [],
   "source": [
    "p = re.compile(r'writing (\\d+) records to (.*)\\n.*total time: (.*)\\W', re.DOTALL)\n",
    "p_query = re.compile(r\"making query (\\d+)\", re.MULTILINE)\n",
    "# p = re.compile(r'making query (\\d*) with args: .* writing', re.DOTALL)"
   ]
  },
  {
   "cell_type": "code",
   "execution_count": 109,
   "metadata": {
    "collapsed": true
   },
   "outputs": [],
   "source": [
    "def get_log_data(fname):\n",
    "    with open(fname, 'r') as f:\n",
    "        txt = f.read()\n",
    "        m = p.search(txt)\n",
    "        m_query = p_query.findall(txt)\n",
    "        if not m or not m_query:\n",
    "            return None\n",
    "        d = {\n",
    "            'num_records': int(m.group(1)),\n",
    "            'json_fname': m.group(2),\n",
    "            'total_time': m.group(3),\n",
    "            'num_queries': int(m_query[-1])\n",
    "        }\n",
    "        return d\n",
    "        "
   ]
  },
  {
   "cell_type": "code",
   "execution_count": 110,
   "metadata": {},
   "outputs": [],
   "source": [
    "d = {}\n",
    "for fname in logfiles:\n",
    "    this_logdata = get_log_data(fname)\n",
    "    if this_logdata:\n",
    "        d[fname] = this_logdata"
   ]
  },
  {
   "cell_type": "code",
   "execution_count": 111,
   "metadata": {},
   "outputs": [
    {
     "data": {
      "text/plain": [
       "{'paperscrape3/papers1960.log': {'json_fname': '/home/jporteno/code/maka/paperscrape3/papers-1960.json',\n",
       "  'num_queries': 400,\n",
       "  'num_records': 398436,\n",
       "  'total_time': '11 minutes and 29.92 seconds'},\n",
       " 'paperscrape3/papers1961.log': {'json_fname': '/home/jporteno/code/maka/paperscrape3/papers-1961.json',\n",
       "  'num_queries': 394,\n",
       "  'num_records': 392557,\n",
       "  'total_time': '11 minutes and 50.45 seconds'},\n",
       " 'paperscrape3/papers1962.log': {'json_fname': '/home/jporteno/code/maka/paperscrape3/papers-1962.json',\n",
       "  'num_queries': 422,\n",
       "  'num_records': 420863,\n",
       "  'total_time': '12 minutes and 12.47 seconds'},\n",
       " 'paperscrape3/papers1963.log': {'json_fname': '/home/jporteno/code/maka/paperscrape3/papers-1963.json',\n",
       "  'num_queries': 450,\n",
       "  'num_records': 448178,\n",
       "  'total_time': '13 minutes and 17.06 seconds'},\n",
       " 'paperscrape3/papers1964.log': {'json_fname': '/home/jporteno/code/maka/paperscrape3/papers-1964.json',\n",
       "  'num_queries': 484,\n",
       "  'num_records': 482597,\n",
       "  'total_time': '14 minutes and 26.69 seconds'},\n",
       " 'paperscrape3/papers1965.log': {'json_fname': '/home/jporteno/code/maka/paperscrape3/papers-1965.json',\n",
       "  'num_queries': 542,\n",
       "  'num_records': 540235,\n",
       "  'total_time': '16 minutes and 31.75 seconds'},\n",
       " 'paperscrape3/papers1966.log': {'json_fname': '/home/jporteno/code/maka/paperscrape3/papers-1966.json',\n",
       "  'num_queries': 576,\n",
       "  'num_records': 574315,\n",
       "  'total_time': '18 minutes and 27.99 seconds'},\n",
       " 'paperscrape3/papers1967.log': {'json_fname': '/home/jporteno/code/maka/paperscrape3/papers-1967.json',\n",
       "  'num_queries': 623,\n",
       "  'num_records': 621192,\n",
       "  'total_time': '20 minutes and 10.21 seconds'},\n",
       " 'paperscrape3/papers1968.log': {'json_fname': '/home/jporteno/code/maka/paperscrape3/papers-1968.json',\n",
       "  'num_queries': 671,\n",
       "  'num_records': 669718,\n",
       "  'total_time': '21 minutes and 38.19 seconds'},\n",
       " 'paperscrape3/papers1969.log': {'json_fname': '/home/jporteno/code/maka/paperscrape3/papers-1969.json',\n",
       "  'num_queries': 726,\n",
       "  'num_records': 724653,\n",
       "  'total_time': '24 minutes and 21.49 seconds'},\n",
       " 'paperscrape3/papers1970.log': {'json_fname': '/home/jporteno/code/maka/paperscrape3/papers-1970.json',\n",
       "  'num_queries': 828,\n",
       "  'num_records': 826727,\n",
       "  'total_time': '28 minutes and 56.66 seconds'},\n",
       " 'paperscrape3/papers1971.log': {'json_fname': '/home/jporteno/code/maka/paperscrape3/papers-1971.json',\n",
       "  'num_queries': 782,\n",
       "  'num_records': 780562,\n",
       "  'total_time': '28 minutes and 30.26 seconds'},\n",
       " 'paperscrape3/papers1972.log': {'json_fname': '/home/jporteno/code/maka/paperscrape3/papers-1972.json',\n",
       "  'num_queries': 804,\n",
       "  'num_records': 802696,\n",
       "  'total_time': '29 minutes and 43.18 seconds'},\n",
       " 'paperscrape3/papers1973.log': {'json_fname': '/home/jporteno/code/maka/paperscrape3/papers-1973.json',\n",
       "  'num_queries': 833,\n",
       "  'num_records': 831710,\n",
       "  'total_time': '31 minutes and 40.48 seconds'},\n",
       " 'paperscrape3/papers1974.log': {'json_fname': '/home/jporteno/code/maka/paperscrape3/papers-1974.json',\n",
       "  'num_queries': 864,\n",
       "  'num_records': 862524,\n",
       "  'total_time': '33 minutes and 12.28 seconds'},\n",
       " 'paperscrape3/papers1975.log': {'json_fname': '/home/jporteno/code/maka/paperscrape3/papers-1975.json',\n",
       "  'num_queries': 908,\n",
       "  'num_records': 907016,\n",
       "  'total_time': '36 minutes and 34.75 seconds'},\n",
       " 'paperscrape3/papers1976.log': {'json_fname': '/home/jporteno/code/maka/paperscrape3/papers-1976.json',\n",
       "  'num_queries': 926,\n",
       "  'num_records': 924596,\n",
       "  'total_time': '38 minutes and 36.22 seconds'},\n",
       " 'paperscrape3/papers1977.log': {'json_fname': '/home/jporteno/code/maka/paperscrape3/papers-1977.json',\n",
       "  'num_queries': 966,\n",
       "  'num_records': 964901,\n",
       "  'total_time': '40 minutes and 36.13 seconds'},\n",
       " 'paperscrape3/papers1978.log': {'json_fname': '/home/jporteno/code/maka/paperscrape3/papers-1978.json',\n",
       "  'num_queries': 1010,\n",
       "  'num_records': 1008871,\n",
       "  'total_time': '42 minutes and 51.93 seconds'},\n",
       " 'paperscrape3/papers1979.log': {'json_fname': '/home/jporteno/code/maka/paperscrape3/papers-1979.json',\n",
       "  'num_queries': 1044,\n",
       "  'num_records': 1042198,\n",
       "  'total_time': '44 minutes and 30.1 seconds'}}"
      ]
     },
     "execution_count": 111,
     "metadata": {},
     "output_type": "execute_result"
    }
   ],
   "source": [
    "d"
   ]
  },
  {
   "cell_type": "code",
   "execution_count": 117,
   "metadata": {},
   "outputs": [],
   "source": [
    "df = pd.DataFrame.from_dict(d, orient='index')"
   ]
  },
  {
   "cell_type": "code",
   "execution_count": 124,
   "metadata": {},
   "outputs": [],
   "source": [
    "df['logfname'] = df.index\n",
    "def extract_year(x):\n",
    "    b = os.path.basename(x)\n",
    "    b = os.path.splitext(b)[0]\n",
    "    return int(b.replace('papers',''))\n",
    "df['year'] = df.logfname.apply(extract_year)"
   ]
  },
  {
   "cell_type": "code",
   "execution_count": 130,
   "metadata": {},
   "outputs": [
    {
     "data": {
      "text/plain": [
       "[<matplotlib.lines.Line2D at 0x7f4b9e281210>]"
      ]
     },
     "execution_count": 130,
     "metadata": {},
     "output_type": "execute_result"
    },
    {
     "data": {
      "image/png": "[encoded data removed]",
      "text/plain": [
       "<matplotlib.figure.Figure at 0x7f4b9e547490>"
      ]
     },
     "metadata": {},
     "output_type": "display_data"
    }
   ],
   "source": [
    "plt.plot(df.year, df.num_records)"
   ]
  },
  {
   "cell_type": "code",
   "execution_count": 131,
   "metadata": {
    "scrolled": true
   },
   "outputs": [
    {
     "data": {
      "text/plain": [
       "<Container object of 20 artists>"
      ]
     },
     "execution_count": 131,
     "metadata": {},
     "output_type": "execute_result"
    },
    {
     "data": {
      "image/png": "[encoded data removed]",
      "text/plain": [
       "<matplotlib.figure.Figure at 0x7f4b9e2b4410>"
      ]
     },
     "metadata": {},
     "output_type": "display_data"
    }
   ],
   "source": [
    "plt.bar(df.year, df.num_records)"
   ]
  },
  {
   "cell_type": "code",
   "execution_count": 132,
   "metadata": {},
   "outputs": [
    {
     "data": {
      "text/plain": [
       "[<matplotlib.lines.Line2D at 0x7f4b9e10d550>]"
      ]
     },
     "execution_count": 132,
     "metadata": {},
     "output_type": "execute_result"
    },
    {
     "data": {
      "image/png": "[encoded data removed]",
      "text/plain": [
       "<matplotlib.figure.Figure at 0x7f4b9e201a10>"
      ]
     },
     "metadata": {},
     "output_type": "display_data"
    }
   ],
   "source": [
    "plt.plot(df.year, df.num_queries)"
   ]
  }
 ],
 "metadata": {
  "kernelspec": {
   "display_name": "Python 2",
   "language": "python",
   "name": "python2"
  },
  "language_info": {
   "codemirror_mode": {
    "name": "ipython",
    "version": 2
   },
   "file_extension": ".py",
   "mimetype": "text/x-python",
   "name": "python",
   "nbconvert_exporter": "python",
   "pygments_lexer": "ipython2",
   "version": "2.7.13"
  }
 },
 "nbformat": 4,
 "nbformat_minor": 2
}
